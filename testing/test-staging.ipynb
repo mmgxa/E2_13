{
 "cells": [
  {
   "cell_type": "code",
   "execution_count": 2,
   "id": "6e2aa897-3502-4454-b6e4-52528e35bd69",
   "metadata": {
    "tags": []
   },
   "outputs": [],
   "source": [
    "import boto3\n",
    "import sagemaker\n",
    "import time\n",
    "from time import strftime\n",
    "\n",
    "boto_session = boto3.Session()\n",
    "sagemaker_session = sagemaker.Session(boto_session=boto_session)\n",
    "sm_client = boto3.client(\"sagemaker\")\n",
    "region = boto_session.region_name\n",
    "bucket = sagemaker_session.default_bucket()\n",
    "role = 'sagemaker-role'\n",
    "account = sagemaker_session.boto_session.client(\"sts\").get_caller_identity()[\"Account\"]\n",
    "\n",
    "prefix = 'sagemaker-intel-dvc'\n",
    "\n",
    "# print(f\"account: {account}\")\n",
    "# print(f\"bucket: {bucket}\")\n",
    "# print(f\"region: {region}\")\n",
    "# print(f\"role: {role}\")"
   ]
  },
  {
   "cell_type": "code",
   "execution_count": 3,
   "id": "e1281c72-f881-4a5c-8513-ce6f13617f03",
   "metadata": {
    "tags": []
   },
   "outputs": [],
   "source": [
    "from sagemaker.pytorch import PyTorchPredictor\n",
    "from sagemaker.serializers import JSONSerializer\n",
    "from sagemaker.deserializers import JSONDeserializer"
   ]
  },
  {
   "cell_type": "code",
   "execution_count": 4,
   "id": "fe50be44-1653-4321-8be0-ee401f22fe5d",
   "metadata": {
    "tags": []
   },
   "outputs": [],
   "source": [
    "predictor = PyTorchPredictor(\n",
    "    endpoint_name=\"emlo-s13a-staging\",\n",
    "    sagemaker_session=sagemaker_session,\n",
    "    serializer=JSONSerializer(),\n",
    "    deserializer=JSONDeserializer(),\n",
    ")"
   ]
  },
  {
   "cell_type": "code",
   "execution_count": 5,
   "id": "34573150-f8a6-4995-bb3d-029aadff8255",
   "metadata": {
    "tags": []
   },
   "outputs": [],
   "source": [
    "classnames = ['buildings', 'forest', 'glacier', 'mountain', 'sea', 'street']"
   ]
  },
  {
   "cell_type": "code",
   "execution_count": 6,
   "id": "b6f19e97-01a2-4a91-bd42-8132dfcf811f",
   "metadata": {
    "tags": []
   },
   "outputs": [],
   "source": [
    "import torch\n",
    "\n",
    "import torchvision.transforms as T\n",
    "import torch.nn.functional as F\n",
    "import numpy as np\n",
    "\n",
    "from PIL import Image"
   ]
  },
  {
   "cell_type": "code",
   "execution_count": 7,
   "id": "b79c3cd2",
   "metadata": {},
   "outputs": [],
   "source": [
    "transforms = T.Compose([\n",
    "    T.ToTensor(),\n",
    "    T.Resize((224, 224)),\n",
    "    T.Normalize(mean=[0.485, 0.456, 0.406], std=[0.229, 0.224, 0.225])\n",
    "])"
   ]
  },
  {
   "cell_type": "code",
   "execution_count": 10,
   "id": "eeff8e7b",
   "metadata": {},
   "outputs": [
    {
     "name": "stdout",
     "output_type": "stream",
     "text": [
      "glacier2.jpg is predicted as glacier\n",
      "------------------\n",
      "forest2.jpg is predicted as forest\n",
      "------------------\n",
      "buildings1.jpg is predicted as buildings\n",
      "------------------\n",
      "mountain2.jpg is predicted as mountain\n",
      "------------------\n",
      "glacier1.jpg is predicted as glacier\n",
      "------------------\n",
      "sea1.jpg is predicted as sea\n",
      "------------------\n",
      "street2.jpg is predicted as street\n",
      "------------------\n",
      "sea2.jpg is predicted as sea\n",
      "------------------\n",
      "buildings2.jpg is predicted as buildings\n",
      "------------------\n",
      "forest1.jpg is predicted as forest\n",
      "------------------\n",
      "street1.jpg is predicted as street\n",
      "------------------\n",
      "mountain1.jpg is predicted as mountain\n",
      "------------------\n"
     ]
    }
   ],
   "source": [
    "import os\n",
    "directory = 'img'\n",
    "for filename in os.listdir(directory):\n",
    "    f = os.path.join(directory, filename)\n",
    "    inp_img1 = Image.open(f)\n",
    "    inp_img1.resize((224, 224))\n",
    "    inp_img1 = transforms(inp_img1)\n",
    "    input_array1 = {\"inputs\": inp_img1[None, ...].numpy().tolist()}\n",
    "    out = predictor.predict(input_array1)\n",
    "    out_t = torch.tensor(out)\n",
    "    print(f\"{filename} is predicted as {classnames[torch.argmax(out_t, dim=-1)[0]]}\")\n",
    "    print('------------------')"
   ]
  }
 ],
 "metadata": {
  "forced_instance_type": "ml.t3.medium",
  "forced_lcc_arn": "",
  "instance_type": "ml.t3.medium",
  "kernelspec": {
   "display_name": "sage",
   "language": "python",
   "name": "python3"
  },
  "language_info": {
   "codemirror_mode": {
    "name": "ipython",
    "version": 3
   },
   "file_extension": ".py",
   "mimetype": "text/x-python",
   "name": "python",
   "nbconvert_exporter": "python",
   "pygments_lexer": "ipython3",
   "version": "3.8.12 (default, Dec 27 2021, 20:45:53) \n[GCC 11.2.0]"
  },
  "vscode": {
   "interpreter": {
    "hash": "56c8b11829b62d4480edeffa99568baa66a55d66fcd3834ab08236f574c2c3e6"
   }
  }
 },
 "nbformat": 4,
 "nbformat_minor": 5
}
